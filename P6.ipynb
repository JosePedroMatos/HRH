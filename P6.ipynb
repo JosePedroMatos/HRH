{
 "cells": [
  {
   "cell_type": "markdown",
   "id": "a5897d87-d13b-4701-8b2f-3bd5cecc9a2f",
   "metadata": {
    "tags": []
   },
   "source": [
    "# Hidrologia e Recursos Hídricos\n",
    "## Auxiliar para o trabalho 6\n",
    "### Introdução\n",
    "Isto é um \"jupyter workbook\" (https://jupyter.org/). Basicamente, trata-se de uma ferramenta online em que se pode correr e modificar código Python em tempo real e em paralelo.\n",
    "Python é um linguagem fácil de aprender e muito útil, podendo servir para scripts simples ou produção e operacionalização de programas complexos (https://blog.boardinfinity.com/top-10-programming-languages-of-the-future/).\n",
    "Certamente, dominar Python pode ajudá-los a singrar na vossa vida profissional, seja ela técnica ou académica.\n",
    "\n",
    "Neste \"workbook\", dividido em vários passos, podem calcular-se os elementos principais da 6a parte do trabalho de Hidrologia e Recursos Hídricos. Espero que vos seja útil.\n",
    "\n",
    "Shift-Enter serve para avançar em cada célula / correr o respectivo código. Podem editar as células com os parâmteros do vosso trabalho.\n",
    "Cada bloco de código está acompanhado de uma pequena explicação e, ocasionalmente, comentários."
   ]
  },
  {
   "cell_type": "markdown",
   "id": "19c97ac6-24ca-417b-8797-185ee4e238ce",
   "metadata": {
    "tags": []
   },
   "source": [
    "### Carregar módulos necessários\n",
    "Quando o Python corre não \"carrega\" logo todas as funcionalidades disponíveis (há um número incontável de opções e, na maior parte dos códigos, é apenas necessário utiliar uma pequeníssima fracção daquilo que existe). Assim, é necessário indicar ao Python que módulos importar.\n",
    "Os módulos principais utilizados aqui são:\n",
    "-  Numpy (https://numpy.org/): serve para cálculo, nomeadamente matricial.\n",
    "-  Pandas (https://pandas.pydata.org/): serve para lidar com tabelas de dados.\n",
    "-  Matplotlib (https://matplotlib.org/): uma biblioteca para criar gráficos."
   ]
  },
  {
   "cell_type": "code",
   "execution_count": 1,
   "id": "a1a2311b-050f-4f00-8079-641bfa285724",
   "metadata": {},
   "outputs": [
    {
     "ename": "ImportError",
     "evalue": "cannot import name 'StepPatch' from 'matplotlib.patches' (D:\\Windows\\General\\Programs\\Anaconda3\\lib\\site-packages\\matplotlib\\patches.py)",
     "output_type": "error",
     "traceback": [
      "\u001b[1;31m---------------------------------------------------------------------------\u001b[0m",
      "\u001b[1;31mImportError\u001b[0m                               Traceback (most recent call last)",
      "\u001b[1;32m<ipython-input-1-eda15d1a6e67>\u001b[0m in \u001b[0;36m<module>\u001b[1;34m\u001b[0m\n\u001b[0;32m      4\u001b[0m \u001b[1;33m\u001b[0m\u001b[0m\n\u001b[0;32m      5\u001b[0m \u001b[1;32mimport\u001b[0m \u001b[0mshapefile\u001b[0m \u001b[1;32mas\u001b[0m \u001b[0mshp\u001b[0m\u001b[1;33m\u001b[0m\u001b[1;33m\u001b[0m\u001b[0m\n\u001b[1;32m----> 6\u001b[1;33m \u001b[1;32mfrom\u001b[0m \u001b[0mmatplotlib\u001b[0m\u001b[1;33m.\u001b[0m\u001b[0mpatches\u001b[0m \u001b[1;32mimport\u001b[0m \u001b[0mStepPatch\u001b[0m\u001b[1;33m\u001b[0m\u001b[1;33m\u001b[0m\u001b[0m\n\u001b[0m",
      "\u001b[1;31mImportError\u001b[0m: cannot import name 'StepPatch' from 'matplotlib.patches' (D:\\Windows\\General\\Programs\\Anaconda3\\lib\\site-packages\\matplotlib\\patches.py)"
     ]
    }
   ],
   "source": [
    "import numpy as np\n",
    "import pandas as pd\n",
    "import matplotlib.pyplot as plt\n",
    "\n",
    "import shapefile as shp \n",
    "from matplotlib.patches import StepPatch"
   ]
  },
  {
   "cell_type": "markdown",
   "id": "f82e48f2-7428-49c5-8836-45d88959e743",
   "metadata": {
    "tags": []
   },
   "source": [
    "### Introduzir os dados de base\n",
    "Abaixo podem substituir os dados por defeito com os da vossa bacia hidrográfica.\n",
    "\n",
    "Comentários são marcados com \"\\#\""
   ]
  },
  {
   "cell_type": "code",
   "execution_count": null,
   "id": "13729dfc-5b84-4974-bd8f-e4e790de1736",
   "metadata": {},
   "outputs": [],
   "source": [
    "# Coordenadas da secção de referência (M e P em km)\n",
    "m = 210 #[km]\n",
    "p = 425 #[km]\n",
    "\n",
    "# Caracterização geomorfológica\n",
    "area = 120.3 # [km2]\n",
    "comprimento = 20.2 # Comprimento do curso de água principal [km]\n",
    "altura_media = 332 # Altura média da bacia hidrográfica [m]\n",
    "declive_medio = 0.03 # Declive médio adimensional [-] ou [m/m]\n",
    "declive_10_85 = 32 # Declive 10:85 [m/km]\n",
    "diferenca_cotas = 400 # Diferença de cotas entre o ponto mais alto e o mais baixo do curso de água principal [m]\n",
    "\n",
    "# Caracterização da precipitação\n",
    "    # Número de blocos utilizados no hietograma\n",
    "numero_blocos = 5\n",
    "    # Coeficientes da linha de possibilidade udométrica P=a*t^n para P em [mm] e t em [min].\n",
    "a = 24.3\n",
    "n = 0.55\n",
    "    # Fracção de perdas (e.g., devidas à infiltração, detenção, intercepção, evaporação, etc.)\n",
    "perdas = 0.22\n",
    "\n",
    "# Caracterização do HUD a partir de uma lista de coordenadas (x, y) em unidades de D.\n",
    "hud = [(0,0),\n",
    "      (5,1),\n",
    "      (11,0),\n",
    "      ]\n"
   ]
  },
  {
   "cell_type": "markdown",
   "id": "ea99c3af-e7cd-44c3-a5d8-821da124cbc6",
   "metadata": {
    "tags": []
   },
   "source": [
    "### Produzir o primeiro gráfico\n",
    "O código seguinte utiliza o matplotlib e shapefiles de portugal para indicar onde se encontra a bacia hidrográfica em estudo. Para isso, recorre às coordenadas m e p introduzidas anteriormente."
   ]
  },
  {
   "cell_type": "code",
   "execution_count": null,
   "id": "58b5a196-3883-4f33-a026-291c3f5cb5ee",
   "metadata": {
    "tags": []
   },
   "outputs": [],
   "source": [
    "cm = 1/2.54  # conversão de cm para polegadas (útil para controlar o tamanho das figuras)\n",
    "\n",
    "# Carregar mapas e outra informação vectorial\n",
    "sf0 = shp.Reader('extra\\portugal.shp')\n",
    "sf1 = shp.Reader('extra\\p_rios.shp')\n",
    "\n",
    "fig = plt.figure(figsize=(30*cm, 20*cm)) # _ = usado para suprimir \"prints\"\n",
    "gs = fig.add_gridspec(nrows=1, ncols=3)\n",
    "ax0 = fig.add_subplot(gs[:, 0])\n",
    "ax1 = fig.add_subplot(gs[:, 1:])\n",
    "\n",
    "ax0.axis('equal')\n",
    "ax1.axis('equal')\n",
    "\n",
    "# Gráfico 1:\n",
    "    # Mostrar Portugal\n",
    "for shape in sf0.shapeRecords():\n",
    "    x = [i[0] for i in shape.shape.points[:]]\n",
    "    y = [i[1] for i in shape.shape.points[:]]\n",
    "    _ = ax0.plot(np.array(x)/1000, np.array(y)/1000, 'k')\n",
    "\n",
    "    # Mostrar a rede hidrográfica\n",
    "for shape in sf1.shapeRecords():\n",
    "    x = [i[0] for i in shape.shape.points[:]]\n",
    "    y = [i[1] for i in shape.shape.points[:]]\n",
    "    _ = ax0.plot(np.array(x)/1000, np.array(y)/1000, 'b', lw=0.2)\n",
    "    \n",
    "    # Mostrar a localização da bacia\n",
    "_ = ax0.plot(m,p, '.r', markersize=20)\n",
    "\n",
    "    # Mostrar zona da bacia\n",
    "margem = 15\n",
    "x_zoom = [m-margem, m-margem, m+margem, m+margem, m-margem]\n",
    "y_zoom = [p-margem, p+margem, p+margem, p-margem, p-margem]\n",
    "ax0.plot(x_zoom, y_zoom, ':k')\n",
    "\n",
    "\n",
    "# Gráfico 2:\n",
    "    # Mostrar Portugal\n",
    "for shape in sf0.shapeRecords():\n",
    "    x = [i[0] for i in shape.shape.points[:]]\n",
    "    y = [i[1] for i in shape.shape.points[:]]\n",
    "    _ = ax1.plot(np.array(x)/1000, np.array(y)/1000, 'k')\n",
    "\n",
    "    # Mostrar a rede hidrográfica\n",
    "for shape in sf1.shapeRecords():\n",
    "    x = [i[0] for i in shape.shape.points[:]]\n",
    "    y = [i[1] for i in shape.shape.points[:]]\n",
    "    _ = ax1.plot(np.array(x)/1000, np.array(y)/1000, 'b', lw=0.2)\n",
    "    \n",
    "    # Mostrar a localização da bacia\n",
    "_ = ax1.plot(m,p, '.r', markersize=20)\n",
    "\n",
    "ax1.set_xlim(min(x_zoom), max(x_zoom))\n",
    "ax1.set_ylim(min(y_zoom), max(y_zoom))\n",
    "ax1.grid()"
   ]
  },
  {
   "cell_type": "markdown",
   "id": "8996f7af-e24f-4683-8cfa-fc0fac421a55",
   "metadata": {},
   "source": [
    "### Calcular o tempo de concentração\n",
    "Segundo as fórmulas de:\n",
    "-  Giandotti: $t_c=\\frac{4\\sqrt{A}+1.5L}{0.8\\sqrt{hm}}$\n",
    "-  Temez: $t_c=0.3\\Big(\\frac{L}{dm^{0.25}}\\Big)^{0.75}$\n",
    "-  NERC: $t_c=2.8\\Big(\\frac{L}{\\sqrt{d_{10:85}}}\\Big)^{0.47}$\n",
    "-  Kirpich: $t_c=0.95\\frac{L^{1.155}}{H^{0.385}}$\n",
    "\n",
    "As unidades de cada variável estão indicadas no acima (introduzir os dados de base).\n",
    "Todas as fórmulas devolvem a estimativa do tempo de concentração em horas.\n",
    "\n",
    "O valor a utilizar corresponde à média das estimativas anteriores."
   ]
  },
  {
   "cell_type": "code",
   "execution_count": 312,
   "id": "9fab55f0-53d7-440a-8ea7-29238a19f926",
   "metadata": {
    "tags": []
   },
   "outputs": [
    {
     "name": "stdout",
     "output_type": "stream",
     "text": [
      "            tc [hr]\n",
      "Giandotti  5.088434\n",
      "Temez      5.735024\n",
      "NERC       5.092874\n",
      "Kirpich    3.045169\n",
      "O valor de tc estimado é de 4.74 horas.\n"
     ]
    }
   ],
   "source": [
    "# Cálculo de cada formula para tc\n",
    "tcs = {} # criação de um \"dict\" onde as várias estimativas são guardadas\n",
    "tcs['Giandotti'] = (4*area**0.5+1.5*comprimento)/(0.8*altura_media**0.5)\n",
    "tcs['Temez'] = 0.3*(comprimento/(declive_medio**0.25))**0.76\n",
    "tcs['NERC'] = 2.8*(comprimento/(declive_10_85)**0.5)**0.47\n",
    "tcs['Kirpich'] = 0.95*(comprimento**1.155/diferenca_cotas**0.385)\n",
    "\n",
    "tcs = pd.DataFrame(data=tcs, index=['tc [hr]']).transpose() # armazenar os dados numa tabela\n",
    "tc = tcs.mean().values[0] # .values[0] é um comando interno para retirar um valor \"simples\" da tabela\n",
    "\n",
    "print(tcs)\n",
    "print('O valor de tc estimado é de %0.2f horas.' % tc) # %0.2f indica que se vai introduzir o valor depois to % (neste caso tc) como um \"float\" de duas casas décimais.\n",
    "\n"
   ]
  },
  {
   "cell_type": "markdown",
   "id": "964c93af-45e5-4083-8abc-61ab7eaf82a5",
   "metadata": {
    "tags": []
   },
   "source": [
    "### Ilustrar a linha de possibilidade udométrica\n",
    "Tendo calculado o tc, é possível estimar a precipitação de projecto para um dado período de retorno (no nosso caso 100 anos).\n",
    "Para o fazer, é necessário utilizar a linha de possibilidade udométrica."
   ]
  },
  {
   "cell_type": "code",
   "execution_count": 313,
   "id": "e3b00df4-52b1-4df3-b828-d18eb8a0a3f6",
   "metadata": {},
   "outputs": [
    {
     "name": "stdout",
     "output_type": "stream",
     "text": [
      "Para um período de retorno de 100 anos e um tc de 4.74 horas, a precipitação de projecto é 543.61 mm.\n"
     ]
    },
    {
     "data": {
      "image/png": "[encoded data removed]",
      "text/plain": [
       "<Figure size 850.394x425.197 with 3 Axes>"
      ]
     },
     "metadata": {
      "needs_background": "light"
     },
     "output_type": "display_data"
    }
   ],
   "source": [
    "# Cálculo da precipitação de projecto e ilustração da linha de possibilidade udométrica\n",
    "\n",
    "p_projecto = a*(tc*60)**n # multiplica-se por 60 para converter horas (unidades de tc) em minutos (unidades desta linha de possibilidade udométrica).\n",
    "print('Para um período de retorno de 100 anos e um tc de %0.2f horas, a precipitação de projecto é %0.2f mm.' % (tc, p_projecto))\n",
    "\n",
    "# Gráficos\n",
    "    # Escala original\n",
    "x = np.linspace(0, 24*60, 10000) # cria os valores x do gráfico. 10000 pontos entre 0 a 1 dias, em minutos.\n",
    "p = a*x**n # aplicação da mesma fórmula a todos os x ao mesmo tempo.\n",
    "\n",
    "fig = plt.figure(figsize=(30*cm, 15*cm))\n",
    "gs = fig.add_gridspec(nrows=1, ncols=2)\n",
    "ax0 = fig.add_subplot(gs[:, 0])\n",
    "ax1 = fig.add_subplot(gs[:, 1])\n",
    "\n",
    "_ = ax0.plot(x, p)\n",
    "ax0.set_xlabel('Duração [min]')\n",
    "ax0.set_ylabel('Precipitação acumulada [mm]')\n",
    "\n",
    "        # Anotações e estilo\n",
    "ax0.plot([0, tc*60, tc*60],[p_projecto, p_projecto, 0], ':k')\n",
    "ax0.annotate('%0.2f mm' % p_projecto, (tc*60, p_projecto))\n",
    "ax0.grid()\n",
    "        \n",
    "        # Segundo eixo horizontal\n",
    "ax2 = ax0.twiny()\n",
    "ax2.set_xlim(ax0.get_xlim()[0]/60, ax0.get_xlim()[1]/60)\n",
    "ax2.set_xlabel('Duração [horas]')\n",
    "\n",
    "    # Escala logarítmica\n",
    "_ = ax1.loglog(x, p)\n",
    "ax1.set_xlabel('Duração [min]')\n",
    "ax1.set_ylabel('Precipitação acumulada [mm]')\n",
    "\n",
    "        # Anotações e estilo\n",
    "ax1.plot([0, tc*60, tc*60],[p_projecto, p_projecto, 0], ':k')\n",
    "ax1.annotate('%0.2f mm' % p_projecto, (tc*60, p_projecto))\n",
    "ax1.grid(True, which=\"both\")\n",
    "_ = ax1.set_xlim(5, 24*60)"
   ]
  },
  {
   "cell_type": "markdown",
   "id": "6b020282-13f5-4281-8638-701fc2a5128b",
   "metadata": {},
   "source": [
    "### Preparar hietogramas\n",
    "Os hietogramas uniforme e de blocos alternados são preparados com o código seguinte."
   ]
  },
  {
   "cell_type": "code",
   "execution_count": 314,
   "id": "5856126e-f5de-4d28-bd1a-92c0f6e7bdba",
   "metadata": {},
   "outputs": [
    {
     "data": {
      "image/png": "[encoded data removed]",
      "text/plain": [
       "<Figure size 850.394x283.465 with 1 Axes>"
      ]
     },
     "metadata": {
      "needs_background": "light"
     },
     "output_type": "display_data"
    },
    {
     "data": {
      "image/png": "[encoded data removed]",
      "text/plain": [
       "<Figure size 850.394x283.465 with 2 Axes>"
      ]
     },
     "metadata": {
      "needs_background": "light"
     },
     "output_type": "display_data"
    }
   ],
   "source": [
    "# Preparação do hietogramas de projecto\n",
    "\n",
    "# Hietograma uniforme\n",
    "intensidade = p_projecto/tc/60 # intensidade da precipitação [mm/min]\n",
    "duracao = tc/numero_blocos*60 # minutos\n",
    "\n",
    "fig = plt.figure(figsize=(30*cm, 10*cm))\n",
    "gs = fig.add_gridspec(nrows=1, ncols=2)\n",
    "ax0 = fig.add_subplot(gs[:, 0])\n",
    "patch = StepPatch(edges = np.linspace(0, tc, numero_blocos+1), values=[intensidade*tc/5*60]*numero_blocos)\n",
    "ax0.add_patch(patch)\n",
    "ax0.set_xlim(0, tc)\n",
    "ax0.set_ylim(0, a*(tc/numero_blocos*60)**n+10)\n",
    "\n",
    "ax0.set_xlabel('Duração [hr]')\n",
    "ax0.set_ylabel('Precipitação [mm]')\n",
    "ax0.grid()\n",
    "\n",
    "# Hietograma alternado\n",
    "x = np.linspace(0, 6*tc/5*60, 1000) # cria os valores x do gráfico. 10000 pontos entre 0 a 1 dias, em minutos.\n",
    "p = a*(x)**n # aplicação da mesma fórmula a todos os x ao mesmo tempo.\n",
    "\n",
    "    # Obtenção dos valores para cada passo do hietograma\n",
    "x_alternado = np.linspace(0, tc, numero_blocos+1)\n",
    "p_alternado = a*(x_alternado*60)**n\n",
    "\n",
    "p_diferencas = np.diff(p_alternado)\n",
    "i_h_alternado = [4, 2, 0, 1, 3]\n",
    "p_h_alternado = p_diferencas[i_h_alternado]\n",
    "\n",
    "\n",
    "fig = plt.figure(figsize=(30*cm, 10*cm))\n",
    "    # Hietograma\n",
    "ax0 = fig.add_subplot(gs[:, 0])\n",
    "patch = StepPatch(edges = np.linspace(0, tc, numero_blocos+1), values=p_h_alternado)\n",
    "ax0.add_patch(patch)\n",
    "ax0.set_xlim(0, tc)\n",
    "ax0.set_ylim(0, a*(tc/numero_blocos*60)**n+10)\n",
    "\n",
    "ax0.set_xlabel('Duração [hr]')\n",
    "ax0.set_ylabel('Precipitação [mm]')\n",
    "plt.grid()\n",
    "\n",
    "    # Linha de possibilidade hidrométrica anotada\n",
    "gs = fig.add_gridspec(nrows=1, ncols=2)\n",
    "ax1 = fig.add_subplot(gs[:, 1])\n",
    "_ = ax1.plot(x, p)\n",
    "ax1.set_xlabel('Duração [min]')\n",
    "ax1.set_ylabel('Precipitação [mm]')\n",
    "for i0 in range(0, numero_blocos):\n",
    "    ax1.plot([0, x_alternado[i0+1]*60, x_alternado[i0+1]*60],[p_alternado[i0+1], p_alternado[i0+1], 0], ':k')\n",
    "    ax1.annotate('%0.2f mm' % p_alternado[i0+1], ((i0+1)*tc/5*60+5, 5), rotation=90, annotation_clip=False, textcoords='data')\n",
    "plt.grid()\n",
    "\n"
   ]
  },
  {
   "cell_type": "markdown",
   "id": "1b11314a-cdb4-4ea2-bedc-813e04966050",
   "metadata": {},
   "source": [
    "### Preparar o hidrograma unitário\n",
    "As coordenadas do HUD introduzidas acima vão ser utilizadas para o construir. O ideal é fazer um hidrograma cujo\n"
   ]
  },
  {
   "cell_type": "code",
   "execution_count": 316,
   "id": "0b96d868-3292-462a-a6f7-110b8870efbc",
   "metadata": {},
   "outputs": [
    {
     "name": "stdout",
     "output_type": "stream",
     "text": [
      "Hietogramas das precipitações totais\n",
      "            Blocos uniformes [mm]  Blocos alternados [mm]\n",
      "D Horas                                                  \n",
      "1 0.948075             108.721754               62.784980\n",
      "2 1.896150             108.721754               82.046540\n",
      "3 2.844225             108.721754              224.312230\n",
      "4 3.792300             108.721754              104.100097\n",
      "5 4.740375             108.721754               70.364923\n",
      "\n",
      "Hietogramas das precipitações efectivas\n",
      "            Blocos uniformes [mm]  Blocos alternados [mm]\n",
      "D Horas                                                  \n",
      "1 0.948075              84.802968               48.972284\n",
      "2 1.896150              84.802968               63.996302\n",
      "3 2.844225              84.802968              174.963539\n",
      "4 3.792300              84.802968               81.198076\n",
      "5 4.740375              84.802968               54.884640\n"
     ]
    },
    {
     "data": {
      "image/png": "[encoded data removed]",
      "text/plain": [
       "<Figure size 850.394x283.465 with 2 Axes>"
      ]
     },
     "metadata": {
      "needs_background": "light"
     },
     "output_type": "display_data"
    }
   ],
   "source": [
    "# Cálculo da precipitação efectiva\n",
    "\n",
    "unidadesDeDuração = np.arange(1, numero_blocos+1)\n",
    "p_h_uniforme = np.ones(numero_blocos)*intensidade*tc/5*60\n",
    "p_h_alternado = p_h_alternado\n",
    "hietogramas = pd.DataFrame({'Blocos uniformes [mm]': p_h_uniforme, 'Blocos alternados [mm]': p_h_alternado})\n",
    "hietogramas.index = pd.MultiIndex.from_arrays([unidadesDeDuração, unidadesDeDuração*tc/5], names=('D','Horas'))\n",
    "print('Hietogramas das precipitações totais')\n",
    "print(hietogramas)\n",
    "\n",
    "p_perdas = hietogramas*perdas\n",
    "p_efectiva = hietogramas-p_perdas\n",
    "print('')\n",
    "print('Hietogramas das precipitações efectivas')\n",
    "print(p_efectiva)\n",
    "\n",
    "fig = plt.figure(figsize=(30*cm, 10*cm))\n",
    "    # Hietograma uniforme\n",
    "ax0 = fig.add_subplot(gs[:, 0])\n",
    "patch = StepPatch(edges = np.linspace(0, tc, numero_blocos+1), values=hietogramas.loc[:, 'Blocos uniformes [mm]'])\n",
    "ax0.add_patch(patch)\n",
    "patch = StepPatch(edges = np.linspace(0, tc, numero_blocos+1), values=p_perdas.loc[:, 'Blocos uniformes [mm]'], color='red')\n",
    "ax0.add_patch(patch)\n",
    "ax0.set_xlim(0, tc)\n",
    "ax0.set_ylim(0, a*(tc/numero_blocos*60)**n+10)\n",
    "\n",
    "ax0.set_xlabel('Duração [hr]')\n",
    "ax0.set_ylabel('Precipitação [mm]')\n",
    "plt.grid()\n",
    "\n",
    "    # Hietograma alternado\n",
    "ax0 = fig.add_subplot(gs[:, 1])\n",
    "patch = StepPatch(edges = np.linspace(0, tc, numero_blocos+1), values=hietogramas.loc[:, 'Blocos alternados [mm]'])\n",
    "ax0.add_patch(patch)\n",
    "patch = StepPatch(edges = np.linspace(0, tc, numero_blocos+1), values=p_perdas.loc[:, 'Blocos alternados [mm]'], color='red')\n",
    "ax0.add_patch(patch)\n",
    "ax0.set_xlim(0, tc)\n",
    "ax0.set_ylim(0, a*(tc/numero_blocos*60)**n+10)\n",
    "\n",
    "ax0.set_xlabel('Duração [hr]')\n",
    "ax0.set_ylabel('Precipitação [mm]')\n",
    "plt.grid()\n"
   ]
  },
  {
   "cell_type": "markdown",
   "id": "271e134c-3931-400e-b1a0-e6742acf3559",
   "metadata": {},
   "source": [
    "### Calcular a precipitação efectiva\n",
    "Para calcular a precipitação efectiva removemos as perdas (neste caso assumidas constantes). O valor das perdas já foi introduzido acima"
   ]
  },
  {
   "cell_type": "code",
   "execution_count": null,
   "id": "d8ef7a66-e6cd-40cc-8069-d24a4616c0c6",
   "metadata": {},
   "outputs": [],
   "source": []
  },
  {
   "cell_type": "code",
   "execution_count": null,
   "id": "a1538fdd-88e1-491f-8cbb-022a76eb7af0",
   "metadata": {},
   "outputs": [],
   "source": []
  }
 ],
 "metadata": {
  "kernelspec": {
   "display_name": "Python 3",
   "language": "python",
   "name": "python3"
  },
  "language_info": {
   "codemirror_mode": {
    "name": "ipython",
    "version": 3
   },
   "file_extension": ".py",
   "mimetype": "text/x-python",
   "name": "python",
   "nbconvert_exporter": "python",
   "pygments_lexer": "ipython3",
   "version": "3.8.8"
  }
 },
 "nbformat": 4,
 "nbformat_minor": 5
}
